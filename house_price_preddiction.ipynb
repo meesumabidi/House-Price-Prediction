{
  "nbformat": 4,
  "nbformat_minor": 0,
  "metadata": {
    "colab": {
      "provenance": [],
      "collapsed_sections": [],
      "authorship_tag": "ABX9TyOvi+3BwS6jCCDpnS94OpuM",
      "include_colab_link": true
    },
    "kernelspec": {
      "name": "python3",
      "display_name": "Python 3"
    },
    "language_info": {
      "name": "python"
    }
  },
  "cells": [
    {
      "cell_type": "markdown",
      "metadata": {
        "id": "view-in-github",
        "colab_type": "text"
      },
      "source": [
        "<a href=\"https://colab.research.google.com/github/meesumabidi/House-Price-Prediction/blob/main/house_price_preddiction.ipynb\" target=\"_parent\"><img src=\"https://colab.research.google.com/assets/colab-badge.svg\" alt=\"Open In Colab\"/></a>"
      ]
    },
    {
      "cell_type": "code",
      "metadata": {
        "colab": {
          "base_uri": "https://localhost:8080/"
        },
        "id": "NedBv92G9wiX",
        "outputId": "658e3c4e-faf9-40b1-bf08-ad164316cca9"
      },
      "source": [
        "pip install keras"
      ],
      "execution_count": null,
      "outputs": [
        {
          "output_type": "stream",
          "name": "stdout",
          "text": [
            "Requirement already satisfied: keras in /usr/local/lib/python3.7/dist-packages (2.7.0)\n"
          ]
        }
      ]
    },
    {
      "cell_type": "code",
      "metadata": {
        "id": "duGo45I2uumS"
      },
      "source": [
        "import numpy as np\n",
        "import pandas as pd\n",
        "import matplotlib.pyplot as plt\n",
        "import seaborn as sns\n",
        "from sklearn.model_selection import train_test_split\n"
      ],
      "execution_count": null,
      "outputs": []
    },
    {
      "cell_type": "code",
      "metadata": {
        "id": "hMtxBLICuxRR"
      },
      "source": [
        "my_data = pd.read_csv('../content/Property_with_Feature_Engineering.csv')"
      ],
      "execution_count": null,
      "outputs": []
    },
    {
      "cell_type": "code",
      "metadata": {
        "colab": {
          "base_uri": "https://localhost:8080/",
          "height": 469
        },
        "id": "NqP5PZoku0D5",
        "outputId": "85c9405a-b0b0-42a4-84c4-afc6d9481cfa"
      },
      "source": [
        "  my_frame = pd.DataFrame(my_data)\n",
        "  my_frame.head()"
      ],
      "execution_count": null,
      "outputs": [
        {
          "output_type": "execute_result",
          "data": {
            "text/html": [
              "<div>\n",
              "<style scoped>\n",
              "    .dataframe tbody tr th:only-of-type {\n",
              "        vertical-align: middle;\n",
              "    }\n",
              "\n",
              "    .dataframe tbody tr th {\n",
              "        vertical-align: top;\n",
              "    }\n",
              "\n",
              "    .dataframe thead th {\n",
              "        text-align: right;\n",
              "    }\n",
              "</style>\n",
              "<table border=\"1\" class=\"dataframe\">\n",
              "  <thead>\n",
              "    <tr style=\"text-align: right;\">\n",
              "      <th></th>\n",
              "      <th>property_id</th>\n",
              "      <th>location_id</th>\n",
              "      <th>page_url</th>\n",
              "      <th>property_type</th>\n",
              "      <th>price</th>\n",
              "      <th>price_bin</th>\n",
              "      <th>location</th>\n",
              "      <th>city</th>\n",
              "      <th>province_name</th>\n",
              "      <th>locality</th>\n",
              "      <th>latitude</th>\n",
              "      <th>longitude</th>\n",
              "      <th>baths</th>\n",
              "      <th>area</th>\n",
              "      <th>area_marla</th>\n",
              "      <th>area_sqft</th>\n",
              "      <th>purpose</th>\n",
              "      <th>bedrooms</th>\n",
              "      <th>date_added</th>\n",
              "      <th>year</th>\n",
              "      <th>month</th>\n",
              "      <th>day</th>\n",
              "      <th>agency</th>\n",
              "      <th>agent</th>\n",
              "    </tr>\n",
              "  </thead>\n",
              "  <tbody>\n",
              "    <tr>\n",
              "      <th>0</th>\n",
              "      <td>347795</td>\n",
              "      <td>8</td>\n",
              "      <td>https://www.zameen.com/Property/lahore_model_t...</td>\n",
              "      <td>House</td>\n",
              "      <td>220000000.0</td>\n",
              "      <td>Very High</td>\n",
              "      <td>Model Town</td>\n",
              "      <td>Lahore</td>\n",
              "      <td>Punjab</td>\n",
              "      <td>Model Town, Lahore, Punjab</td>\n",
              "      <td>31.483869</td>\n",
              "      <td>74.325686</td>\n",
              "      <td>0.0</td>\n",
              "      <td>6 Kanal</td>\n",
              "      <td>120.0</td>\n",
              "      <td>32670.12</td>\n",
              "      <td>For Sale</td>\n",
              "      <td>0.0</td>\n",
              "      <td>07-17-2019</td>\n",
              "      <td>2019.0</td>\n",
              "      <td>7.0</td>\n",
              "      <td>17.0</td>\n",
              "      <td>Real Biz International</td>\n",
              "      <td>Usama Khan</td>\n",
              "    </tr>\n",
              "    <tr>\n",
              "      <th>1</th>\n",
              "      <td>482892</td>\n",
              "      <td>48</td>\n",
              "      <td>https://www.zameen.com/Property/lahore_multan_...</td>\n",
              "      <td>House</td>\n",
              "      <td>40000000.0</td>\n",
              "      <td>Very High</td>\n",
              "      <td>Multan Road</td>\n",
              "      <td>Lahore</td>\n",
              "      <td>Punjab</td>\n",
              "      <td>Multan Road, Lahore, Punjab</td>\n",
              "      <td>31.431593</td>\n",
              "      <td>74.179980</td>\n",
              "      <td>5.0</td>\n",
              "      <td>1 Kanal</td>\n",
              "      <td>20.0</td>\n",
              "      <td>5445.02</td>\n",
              "      <td>For Sale</td>\n",
              "      <td>5.0</td>\n",
              "      <td>10-06-2018</td>\n",
              "      <td>2018.0</td>\n",
              "      <td>10.0</td>\n",
              "      <td>6.0</td>\n",
              "      <td>Khan Estate</td>\n",
              "      <td>mohsinkhan and B</td>\n",
              "    </tr>\n",
              "    <tr>\n",
              "      <th>2</th>\n",
              "      <td>555962</td>\n",
              "      <td>75</td>\n",
              "      <td>https://www.zameen.com/Property/eden_eden_aven...</td>\n",
              "      <td>House</td>\n",
              "      <td>9500000.0</td>\n",
              "      <td>Low</td>\n",
              "      <td>Eden</td>\n",
              "      <td>Lahore</td>\n",
              "      <td>Punjab</td>\n",
              "      <td>Eden, Lahore, Punjab</td>\n",
              "      <td>31.499348</td>\n",
              "      <td>74.416959</td>\n",
              "      <td>0.0</td>\n",
              "      <td>9 Marla</td>\n",
              "      <td>9.0</td>\n",
              "      <td>2450.26</td>\n",
              "      <td>For Sale</td>\n",
              "      <td>3.0</td>\n",
              "      <td>07-03-2019</td>\n",
              "      <td>2019.0</td>\n",
              "      <td>7.0</td>\n",
              "      <td>3.0</td>\n",
              "      <td>Shahum Estate 2</td>\n",
              "      <td>Babar Hameed, Raja Omar</td>\n",
              "    </tr>\n",
              "    <tr>\n",
              "      <th>3</th>\n",
              "      <td>562843</td>\n",
              "      <td>3821</td>\n",
              "      <td>https://www.zameen.com/Property/gulberg_2_gulb...</td>\n",
              "      <td>House</td>\n",
              "      <td>125000000.0</td>\n",
              "      <td>Very High</td>\n",
              "      <td>Gulberg</td>\n",
              "      <td>Lahore</td>\n",
              "      <td>Punjab</td>\n",
              "      <td>Gulberg, Lahore, Punjab</td>\n",
              "      <td>31.522069</td>\n",
              "      <td>74.355512</td>\n",
              "      <td>7.0</td>\n",
              "      <td>1 Kanal</td>\n",
              "      <td>20.0</td>\n",
              "      <td>5445.02</td>\n",
              "      <td>For Sale</td>\n",
              "      <td>8.0</td>\n",
              "      <td>04-04-2019</td>\n",
              "      <td>2019.0</td>\n",
              "      <td>4.0</td>\n",
              "      <td>4.0</td>\n",
              "      <td>NaN</td>\n",
              "      <td>NaN</td>\n",
              "    </tr>\n",
              "    <tr>\n",
              "      <th>4</th>\n",
              "      <td>686990</td>\n",
              "      <td>3522</td>\n",
              "      <td>https://www.zameen.com/Property/allama_iqbal_t...</td>\n",
              "      <td>House</td>\n",
              "      <td>21000000.0</td>\n",
              "      <td>High</td>\n",
              "      <td>Allama Iqbal Town</td>\n",
              "      <td>Lahore</td>\n",
              "      <td>Punjab</td>\n",
              "      <td>Allama Iqbal Town, Lahore, Punjab</td>\n",
              "      <td>31.506483</td>\n",
              "      <td>74.286017</td>\n",
              "      <td>5.0</td>\n",
              "      <td>11 Marla</td>\n",
              "      <td>11.0</td>\n",
              "      <td>2994.76</td>\n",
              "      <td>For Sale</td>\n",
              "      <td>6.0</td>\n",
              "      <td>04-04-2019</td>\n",
              "      <td>2019.0</td>\n",
              "      <td>4.0</td>\n",
              "      <td>4.0</td>\n",
              "      <td>NaN</td>\n",
              "      <td>NaN</td>\n",
              "    </tr>\n",
              "  </tbody>\n",
              "</table>\n",
              "</div>"
            ],
            "text/plain": [
              "   property_id  location_id  ...                  agency                    agent\n",
              "0       347795            8  ...  Real Biz International               Usama Khan\n",
              "1       482892           48  ...             Khan Estate         mohsinkhan and B\n",
              "2       555962           75  ...         Shahum Estate 2  Babar Hameed, Raja Omar\n",
              "3       562843         3821  ...                     NaN                      NaN\n",
              "4       686990         3522  ...                     NaN                      NaN\n",
              "\n",
              "[5 rows x 24 columns]"
            ]
          },
          "metadata": {},
          "execution_count": 4
        }
      ]
    },
    {
      "cell_type": "markdown",
      "metadata": {
        "id": "w2psLo_GV8oe"
      },
      "source": []
    },
    {
      "cell_type": "code",
      "metadata": {
        "colab": {
          "base_uri": "https://localhost:8080/"
        },
        "id": "dXE0_RJEu1rp",
        "outputId": "7204a04b-ab2f-46df-b918-aa8516df93fa"
      },
      "source": [
        "my_frame.shape"
      ],
      "execution_count": null,
      "outputs": [
        {
          "output_type": "execute_result",
          "data": {
            "text/plain": [
              "(91624, 24)"
            ]
          },
          "metadata": {},
          "execution_count": 4
        }
      ]
    },
    {
      "cell_type": "code",
      "metadata": {
        "colab": {
          "base_uri": "https://localhost:8080/"
        },
        "id": "Z5SLXcEZu27J",
        "outputId": "b56f12ac-cb09-4cae-972b-cad16c6a19e5"
      },
      "source": [
        "  my_frame.info()"
      ],
      "execution_count": null,
      "outputs": [
        {
          "output_type": "stream",
          "name": "stdout",
          "text": [
            "<class 'pandas.core.frame.DataFrame'>\n",
            "RangeIndex: 91624 entries, 0 to 91623\n",
            "Data columns (total 24 columns):\n",
            " #   Column         Non-Null Count  Dtype  \n",
            "---  ------         --------------  -----  \n",
            " 0   property_id    91624 non-null  int64  \n",
            " 1   location_id    91624 non-null  int64  \n",
            " 2   page_url       91624 non-null  object \n",
            " 3   property_type  91624 non-null  object \n",
            " 4   price          91623 non-null  float64\n",
            " 5   price_bin      91623 non-null  object \n",
            " 6   location       91623 non-null  object \n",
            " 7   city           91623 non-null  object \n",
            " 8   province_name  91623 non-null  object \n",
            " 9   locality       91623 non-null  object \n",
            " 10  latitude       91623 non-null  float64\n",
            " 11  longitude      91623 non-null  float64\n",
            " 12  baths          91623 non-null  float64\n",
            " 13  area           91623 non-null  object \n",
            " 14  area_marla     91623 non-null  float64\n",
            " 15  area_sqft      91623 non-null  float64\n",
            " 16  purpose        91623 non-null  object \n",
            " 17  bedrooms       91623 non-null  float64\n",
            " 18  date_added     91623 non-null  object \n",
            " 19  year           91623 non-null  float64\n",
            " 20  month          91623 non-null  float64\n",
            " 21  day            91623 non-null  float64\n",
            " 22  agency         52215 non-null  object \n",
            " 23  agent          52215 non-null  object \n",
            "dtypes: float64(10), int64(2), object(12)\n",
            "memory usage: 16.8+ MB\n"
          ]
        }
      ]
    },
    {
      "cell_type": "code",
      "metadata": {
        "colab": {
          "base_uri": "https://localhost:8080/",
          "height": 320
        },
        "id": "LvNpLWIPu40a",
        "outputId": "831c4691-78dc-41b7-ac9e-663828204a81"
      },
      "source": [
        "my_frame.describe()\n"
      ],
      "execution_count": null,
      "outputs": [
        {
          "output_type": "execute_result",
          "data": {
            "text/html": [
              "<div>\n",
              "<style scoped>\n",
              "    .dataframe tbody tr th:only-of-type {\n",
              "        vertical-align: middle;\n",
              "    }\n",
              "\n",
              "    .dataframe tbody tr th {\n",
              "        vertical-align: top;\n",
              "    }\n",
              "\n",
              "    .dataframe thead th {\n",
              "        text-align: right;\n",
              "    }\n",
              "</style>\n",
              "<table border=\"1\" class=\"dataframe\">\n",
              "  <thead>\n",
              "    <tr style=\"text-align: right;\">\n",
              "      <th></th>\n",
              "      <th>property_id</th>\n",
              "      <th>location_id</th>\n",
              "      <th>price</th>\n",
              "      <th>latitude</th>\n",
              "      <th>longitude</th>\n",
              "      <th>baths</th>\n",
              "      <th>area_marla</th>\n",
              "      <th>area_sqft</th>\n",
              "      <th>bedrooms</th>\n",
              "      <th>year</th>\n",
              "      <th>month</th>\n",
              "      <th>day</th>\n",
              "    </tr>\n",
              "  </thead>\n",
              "  <tbody>\n",
              "    <tr>\n",
              "      <th>count</th>\n",
              "      <td>9.162400e+04</td>\n",
              "      <td>91624.000000</td>\n",
              "      <td>9.162300e+04</td>\n",
              "      <td>91623.000000</td>\n",
              "      <td>91623.000000</td>\n",
              "      <td>91623.000000</td>\n",
              "      <td>91623.000000</td>\n",
              "      <td>9.162300e+04</td>\n",
              "      <td>91623.000000</td>\n",
              "      <td>91623.000000</td>\n",
              "      <td>91623.000000</td>\n",
              "      <td>91623.000000</td>\n",
              "    </tr>\n",
              "    <tr>\n",
              "      <th>mean</th>\n",
              "      <td>1.420909e+07</td>\n",
              "      <td>4303.310159</td>\n",
              "      <td>1.815234e+07</td>\n",
              "      <td>29.901049</td>\n",
              "      <td>71.359142</td>\n",
              "      <td>3.139026</td>\n",
              "      <td>11.818095</td>\n",
              "      <td>3.217487e+03</td>\n",
              "      <td>3.297393</td>\n",
              "      <td>2018.865656</td>\n",
              "      <td>5.639861</td>\n",
              "      <td>11.374808</td>\n",
              "    </tr>\n",
              "    <tr>\n",
              "      <th>std</th>\n",
              "      <td>2.400221e+06</td>\n",
              "      <td>3709.966579</td>\n",
              "      <td>3.811969e+07</td>\n",
              "      <td>3.747591</td>\n",
              "      <td>3.146211</td>\n",
              "      <td>2.233072</td>\n",
              "      <td>67.618439</td>\n",
              "      <td>1.840919e+04</td>\n",
              "      <td>1.991487</td>\n",
              "      <td>0.341023</td>\n",
              "      <td>2.458273</td>\n",
              "      <td>7.895034</td>\n",
              "    </tr>\n",
              "    <tr>\n",
              "      <th>min</th>\n",
              "      <td>8.657500e+04</td>\n",
              "      <td>1.000000</td>\n",
              "      <td>0.000000e+00</td>\n",
              "      <td>11.052446</td>\n",
              "      <td>25.906027</td>\n",
              "      <td>0.000000</td>\n",
              "      <td>0.000000</td>\n",
              "      <td>0.000000e+00</td>\n",
              "      <td>0.000000</td>\n",
              "      <td>2018.000000</td>\n",
              "      <td>1.000000</td>\n",
              "      <td>1.000000</td>\n",
              "    </tr>\n",
              "    <tr>\n",
              "      <th>25%</th>\n",
              "      <td>1.302839e+07</td>\n",
              "      <td>1127.000000</td>\n",
              "      <td>1.100000e+05</td>\n",
              "      <td>24.938913</td>\n",
              "      <td>67.125883</td>\n",
              "      <td>2.000000</td>\n",
              "      <td>4.800000</td>\n",
              "      <td>1.306800e+03</td>\n",
              "      <td>2.000000</td>\n",
              "      <td>2019.000000</td>\n",
              "      <td>4.000000</td>\n",
              "      <td>5.000000</td>\n",
              "    </tr>\n",
              "    <tr>\n",
              "      <th>50%</th>\n",
              "      <td>1.501130e+07</td>\n",
              "      <td>3283.000000</td>\n",
              "      <td>7.600000e+06</td>\n",
              "      <td>31.462347</td>\n",
              "      <td>73.074158</td>\n",
              "      <td>3.000000</td>\n",
              "      <td>7.100000</td>\n",
              "      <td>1.932980e+03</td>\n",
              "      <td>3.000000</td>\n",
              "      <td>2019.000000</td>\n",
              "      <td>6.000000</td>\n",
              "      <td>7.000000</td>\n",
              "    </tr>\n",
              "    <tr>\n",
              "      <th>75%</th>\n",
              "      <td>1.602027e+07</td>\n",
              "      <td>7184.000000</td>\n",
              "      <td>1.950000e+07</td>\n",
              "      <td>33.550096</td>\n",
              "      <td>74.210501</td>\n",
              "      <td>5.000000</td>\n",
              "      <td>12.000000</td>\n",
              "      <td>3.267010e+03</td>\n",
              "      <td>5.000000</td>\n",
              "      <td>2019.000000</td>\n",
              "      <td>7.000000</td>\n",
              "      <td>18.000000</td>\n",
              "    </tr>\n",
              "    <tr>\n",
              "      <th>max</th>\n",
              "      <td>1.669932e+07</td>\n",
              "      <td>13971.000000</td>\n",
              "      <td>2.000000e+09</td>\n",
              "      <td>73.184088</td>\n",
              "      <td>80.161430</td>\n",
              "      <td>11.000000</td>\n",
              "      <td>12000.000000</td>\n",
              "      <td>3.267012e+06</td>\n",
              "      <td>18.000000</td>\n",
              "      <td>2019.000000</td>\n",
              "      <td>12.000000</td>\n",
              "      <td>30.000000</td>\n",
              "    </tr>\n",
              "  </tbody>\n",
              "</table>\n",
              "</div>"
            ],
            "text/plain": [
              "        property_id   location_id  ...         month           day\n",
              "count  9.162400e+04  91624.000000  ...  91623.000000  91623.000000\n",
              "mean   1.420909e+07   4303.310159  ...      5.639861     11.374808\n",
              "std    2.400221e+06   3709.966579  ...      2.458273      7.895034\n",
              "min    8.657500e+04      1.000000  ...      1.000000      1.000000\n",
              "25%    1.302839e+07   1127.000000  ...      4.000000      5.000000\n",
              "50%    1.501130e+07   3283.000000  ...      6.000000      7.000000\n",
              "75%    1.602027e+07   7184.000000  ...      7.000000     18.000000\n",
              "max    1.669932e+07  13971.000000  ...     12.000000     30.000000\n",
              "\n",
              "[8 rows x 12 columns]"
            ]
          },
          "metadata": {},
          "execution_count": 6
        }
      ]
    },
    {
      "cell_type": "code",
      "metadata": {
        "colab": {
          "base_uri": "https://localhost:8080/"
        },
        "id": "RXKtRgSxu6Dp",
        "outputId": "06a3c8f0-0ab3-45bd-a985-6714abd6c055"
      },
      "source": [
        "my_frame.dtypes"
      ],
      "execution_count": null,
      "outputs": [
        {
          "output_type": "execute_result",
          "data": {
            "text/plain": [
              "property_id        int64\n",
              "location_id        int64\n",
              "page_url          object\n",
              "property_type     object\n",
              "price            float64\n",
              "price_bin         object\n",
              "location          object\n",
              "city              object\n",
              "province_name     object\n",
              "locality          object\n",
              "latitude         float64\n",
              "longitude        float64\n",
              "baths            float64\n",
              "area              object\n",
              "area_marla       float64\n",
              "area_sqft        float64\n",
              "purpose           object\n",
              "bedrooms         float64\n",
              "date_added        object\n",
              "year             float64\n",
              "month            float64\n",
              "day              float64\n",
              "agency            object\n",
              "agent             object\n",
              "dtype: object"
            ]
          },
          "metadata": {},
          "execution_count": 7
        }
      ]
    },
    {
      "cell_type": "code",
      "metadata": {
        "colab": {
          "base_uri": "https://localhost:8080/"
        },
        "id": "jx-bBPL_u7Kr",
        "outputId": "f52fdde4-0cd8-4c3a-a7d1-18f51f25516b"
      },
      "source": [
        "my_frame.isnull().sum()"
      ],
      "execution_count": null,
      "outputs": [
        {
          "output_type": "execute_result",
          "data": {
            "text/plain": [
              "property_id          0\n",
              "location_id          0\n",
              "page_url             0\n",
              "property_type        0\n",
              "price                1\n",
              "price_bin            1\n",
              "location             1\n",
              "city                 1\n",
              "province_name        1\n",
              "locality             1\n",
              "latitude             1\n",
              "longitude            1\n",
              "baths                1\n",
              "area                 1\n",
              "area_marla           1\n",
              "area_sqft            1\n",
              "purpose              1\n",
              "bedrooms             1\n",
              "date_added           1\n",
              "year                 1\n",
              "month                1\n",
              "day                  1\n",
              "agency           39409\n",
              "agent            39409\n",
              "dtype: int64"
            ]
          },
          "metadata": {},
          "execution_count": 8
        }
      ]
    },
    {
      "cell_type": "code",
      "metadata": {
        "colab": {
          "base_uri": "https://localhost:8080/"
        },
        "id": "btDKhO1vu9N6",
        "outputId": "484d8bf2-9ad3-44e6-f232-cc91d47e91d3"
      },
      "source": [
        "my_frame.columns.unique()\n"
      ],
      "execution_count": null,
      "outputs": [
        {
          "output_type": "execute_result",
          "data": {
            "text/plain": [
              "Index(['property_id', 'location_id', 'page_url', 'property_type', 'price',\n",
              "       'price_bin', 'location', 'city', 'province_name', 'locality',\n",
              "       'latitude', 'longitude', 'baths', 'area', 'area_marla', 'area_sqft',\n",
              "       'purpose', 'bedrooms', 'date_added', 'year', 'month', 'day', 'agency',\n",
              "       'agent'],\n",
              "      dtype='object')"
            ]
          },
          "metadata": {},
          "execution_count": 9
        }
      ]
    },
    {
      "cell_type": "code",
      "metadata": {
        "colab": {
          "base_uri": "https://localhost:8080/"
        },
        "id": "W8vE1czru_XB",
        "outputId": "38aeb57b-6ed4-44bb-eddb-1e0a1b2724e8"
      },
      "source": [
        "my_frame.nunique()"
      ],
      "execution_count": null,
      "outputs": [
        {
          "output_type": "execute_result",
          "data": {
            "text/plain": [
              "property_id      91624\n",
              "location_id       3969\n",
              "page_url         91624\n",
              "property_type        8\n",
              "price             1600\n",
              "price_bin            4\n",
              "location          1455\n",
              "city                 5\n",
              "province_name        3\n",
              "locality          1531\n",
              "latitude          7102\n",
              "longitude         7600\n",
              "baths               12\n",
              "area               302\n",
              "area_marla         301\n",
              "area_sqft          301\n",
              "purpose              2\n",
              "bedrooms            18\n",
              "date_added         146\n",
              "year                 2\n",
              "month               12\n",
              "day                 30\n",
              "agency            4470\n",
              "agent             7539\n",
              "dtype: int64"
            ]
          },
          "metadata": {},
          "execution_count": 10
        }
      ]
    },
    {
      "cell_type": "code",
      "metadata": {
        "colab": {
          "base_uri": "https://localhost:8080/",
          "height": 571
        },
        "id": "KJ8ygQEzvA2R",
        "outputId": "2adc5292-951e-4c98-9bbe-077041d91ca4"
      },
      "source": [
        "fig = plt.figure(figsize = (12, 8))\n",
        "sns.heatmap(my_frame.isnull())"
      ],
      "execution_count": null,
      "outputs": [
        {
          "output_type": "execute_result",
          "data": {
            "text/plain": [
              "<matplotlib.axes._subplots.AxesSubplot at 0x7f3769498890>"
            ]
          },
          "metadata": {},
          "execution_count": 11
        },
        {
          "output_type": "display_data",
          "data": {
            "image/png": "[encoded data removed]",
            "text/plain": [
              "<Figure size 864x576 with 2 Axes>"
            ]
          },
          "metadata": {
            "needs_background": "light"
          }
        }
      ]
    },
    {
      "cell_type": "code",
      "metadata": {
        "colab": {
          "base_uri": "https://localhost:8080/"
        },
        "id": "HBa6o3ekvC5Z",
        "outputId": "109a6d26-985b-475e-9b83-17eb58d32d40"
      },
      "source": [
        "my_frame.count()"
      ],
      "execution_count": null,
      "outputs": [
        {
          "output_type": "execute_result",
          "data": {
            "text/plain": [
              "property_id      91624\n",
              "location_id      91624\n",
              "page_url         91624\n",
              "property_type    91624\n",
              "price            91623\n",
              "price_bin        91623\n",
              "location         91623\n",
              "city             91623\n",
              "province_name    91623\n",
              "locality         91623\n",
              "latitude         91623\n",
              "longitude        91623\n",
              "baths            91623\n",
              "area             91623\n",
              "area_marla       91623\n",
              "area_sqft        91623\n",
              "purpose          91623\n",
              "bedrooms         91623\n",
              "date_added       91623\n",
              "year             91623\n",
              "month            91623\n",
              "day              91623\n",
              "agency           52215\n",
              "agent            52215\n",
              "dtype: int64"
            ]
          },
          "metadata": {},
          "execution_count": 12
        }
      ]
    },
    {
      "cell_type": "code",
      "metadata": {
        "colab": {
          "base_uri": "https://localhost:8080/",
          "height": 426
        },
        "id": "UmTbP9K3vD4K",
        "outputId": "c72cc7fd-c278-4487-8076-d8686ef2e238"
      },
      "source": [
        "my_frame.corr()"
      ],
      "execution_count": null,
      "outputs": [
        {
          "output_type": "execute_result",
          "data": {
            "text/html": [
              "<div>\n",
              "<style scoped>\n",
              "    .dataframe tbody tr th:only-of-type {\n",
              "        vertical-align: middle;\n",
              "    }\n",
              "\n",
              "    .dataframe tbody tr th {\n",
              "        vertical-align: top;\n",
              "    }\n",
              "\n",
              "    .dataframe thead th {\n",
              "        text-align: right;\n",
              "    }\n",
              "</style>\n",
              "<table border=\"1\" class=\"dataframe\">\n",
              "  <thead>\n",
              "    <tr style=\"text-align: right;\">\n",
              "      <th></th>\n",
              "      <th>property_id</th>\n",
              "      <th>location_id</th>\n",
              "      <th>price</th>\n",
              "      <th>latitude</th>\n",
              "      <th>longitude</th>\n",
              "      <th>baths</th>\n",
              "      <th>area_marla</th>\n",
              "      <th>area_sqft</th>\n",
              "      <th>bedrooms</th>\n",
              "      <th>year</th>\n",
              "      <th>month</th>\n",
              "      <th>day</th>\n",
              "    </tr>\n",
              "  </thead>\n",
              "  <tbody>\n",
              "    <tr>\n",
              "      <th>property_id</th>\n",
              "      <td>1.000000</td>\n",
              "      <td>0.010335</td>\n",
              "      <td>-0.009388</td>\n",
              "      <td>-0.033407</td>\n",
              "      <td>-0.013439</td>\n",
              "      <td>-0.056833</td>\n",
              "      <td>-0.001777</td>\n",
              "      <td>-0.001777</td>\n",
              "      <td>-0.043587</td>\n",
              "      <td>0.275058</td>\n",
              "      <td>-0.274808</td>\n",
              "      <td>-0.002846</td>\n",
              "    </tr>\n",
              "    <tr>\n",
              "      <th>location_id</th>\n",
              "      <td>0.010335</td>\n",
              "      <td>1.000000</td>\n",
              "      <td>-0.084540</td>\n",
              "      <td>-0.228096</td>\n",
              "      <td>-0.225515</td>\n",
              "      <td>-0.119207</td>\n",
              "      <td>-0.020331</td>\n",
              "      <td>-0.020331</td>\n",
              "      <td>-0.104208</td>\n",
              "      <td>-0.013983</td>\n",
              "      <td>0.010932</td>\n",
              "      <td>0.028194</td>\n",
              "    </tr>\n",
              "    <tr>\n",
              "      <th>price</th>\n",
              "      <td>-0.009388</td>\n",
              "      <td>-0.084540</td>\n",
              "      <td>1.000000</td>\n",
              "      <td>-0.085864</td>\n",
              "      <td>-0.061225</td>\n",
              "      <td>0.265966</td>\n",
              "      <td>0.164258</td>\n",
              "      <td>0.164258</td>\n",
              "      <td>0.293809</td>\n",
              "      <td>0.039577</td>\n",
              "      <td>0.003613</td>\n",
              "      <td>-0.073943</td>\n",
              "    </tr>\n",
              "    <tr>\n",
              "      <th>latitude</th>\n",
              "      <td>-0.033407</td>\n",
              "      <td>-0.228096</td>\n",
              "      <td>-0.085864</td>\n",
              "      <td>1.000000</td>\n",
              "      <td>0.919529</td>\n",
              "      <td>0.066220</td>\n",
              "      <td>0.021781</td>\n",
              "      <td>0.021781</td>\n",
              "      <td>0.026595</td>\n",
              "      <td>0.038825</td>\n",
              "      <td>-0.059378</td>\n",
              "      <td>-0.261598</td>\n",
              "    </tr>\n",
              "    <tr>\n",
              "      <th>longitude</th>\n",
              "      <td>-0.013439</td>\n",
              "      <td>-0.225515</td>\n",
              "      <td>-0.061225</td>\n",
              "      <td>0.919529</td>\n",
              "      <td>1.000000</td>\n",
              "      <td>0.094005</td>\n",
              "      <td>0.020996</td>\n",
              "      <td>0.020996</td>\n",
              "      <td>0.048419</td>\n",
              "      <td>0.045897</td>\n",
              "      <td>-0.054068</td>\n",
              "      <td>-0.220082</td>\n",
              "    </tr>\n",
              "    <tr>\n",
              "      <th>baths</th>\n",
              "      <td>-0.056833</td>\n",
              "      <td>-0.119207</td>\n",
              "      <td>0.265966</td>\n",
              "      <td>0.066220</td>\n",
              "      <td>0.094005</td>\n",
              "      <td>1.000000</td>\n",
              "      <td>0.036528</td>\n",
              "      <td>0.036528</td>\n",
              "      <td>0.773996</td>\n",
              "      <td>-0.005156</td>\n",
              "      <td>0.063632</td>\n",
              "      <td>-0.057011</td>\n",
              "    </tr>\n",
              "    <tr>\n",
              "      <th>area_marla</th>\n",
              "      <td>-0.001777</td>\n",
              "      <td>-0.020331</td>\n",
              "      <td>0.164258</td>\n",
              "      <td>0.021781</td>\n",
              "      <td>0.020996</td>\n",
              "      <td>0.036528</td>\n",
              "      <td>1.000000</td>\n",
              "      <td>1.000000</td>\n",
              "      <td>0.037006</td>\n",
              "      <td>0.010204</td>\n",
              "      <td>-0.007910</td>\n",
              "      <td>-0.008124</td>\n",
              "    </tr>\n",
              "    <tr>\n",
              "      <th>area_sqft</th>\n",
              "      <td>-0.001777</td>\n",
              "      <td>-0.020331</td>\n",
              "      <td>0.164258</td>\n",
              "      <td>0.021781</td>\n",
              "      <td>0.020996</td>\n",
              "      <td>0.036528</td>\n",
              "      <td>1.000000</td>\n",
              "      <td>1.000000</td>\n",
              "      <td>0.037006</td>\n",
              "      <td>0.010204</td>\n",
              "      <td>-0.007910</td>\n",
              "      <td>-0.008124</td>\n",
              "    </tr>\n",
              "    <tr>\n",
              "      <th>bedrooms</th>\n",
              "      <td>-0.043587</td>\n",
              "      <td>-0.104208</td>\n",
              "      <td>0.293809</td>\n",
              "      <td>0.026595</td>\n",
              "      <td>0.048419</td>\n",
              "      <td>0.773996</td>\n",
              "      <td>0.037006</td>\n",
              "      <td>0.037006</td>\n",
              "      <td>1.000000</td>\n",
              "      <td>-0.003269</td>\n",
              "      <td>0.061847</td>\n",
              "      <td>-0.062503</td>\n",
              "    </tr>\n",
              "    <tr>\n",
              "      <th>year</th>\n",
              "      <td>0.275058</td>\n",
              "      <td>-0.013983</td>\n",
              "      <td>0.039577</td>\n",
              "      <td>0.038825</td>\n",
              "      <td>0.045897</td>\n",
              "      <td>-0.005156</td>\n",
              "      <td>0.010204</td>\n",
              "      <td>0.010204</td>\n",
              "      <td>-0.003269</td>\n",
              "      <td>1.000000</td>\n",
              "      <td>-0.720784</td>\n",
              "      <td>-0.089040</td>\n",
              "    </tr>\n",
              "    <tr>\n",
              "      <th>month</th>\n",
              "      <td>-0.274808</td>\n",
              "      <td>0.010932</td>\n",
              "      <td>0.003613</td>\n",
              "      <td>-0.059378</td>\n",
              "      <td>-0.054068</td>\n",
              "      <td>0.063632</td>\n",
              "      <td>-0.007910</td>\n",
              "      <td>-0.007910</td>\n",
              "      <td>0.061847</td>\n",
              "      <td>-0.720784</td>\n",
              "      <td>1.000000</td>\n",
              "      <td>0.069500</td>\n",
              "    </tr>\n",
              "    <tr>\n",
              "      <th>day</th>\n",
              "      <td>-0.002846</td>\n",
              "      <td>0.028194</td>\n",
              "      <td>-0.073943</td>\n",
              "      <td>-0.261598</td>\n",
              "      <td>-0.220082</td>\n",
              "      <td>-0.057011</td>\n",
              "      <td>-0.008124</td>\n",
              "      <td>-0.008124</td>\n",
              "      <td>-0.062503</td>\n",
              "      <td>-0.089040</td>\n",
              "      <td>0.069500</td>\n",
              "      <td>1.000000</td>\n",
              "    </tr>\n",
              "  </tbody>\n",
              "</table>\n",
              "</div>"
            ],
            "text/plain": [
              "             property_id  location_id     price  ...      year     month       day\n",
              "property_id     1.000000     0.010335 -0.009388  ...  0.275058 -0.274808 -0.002846\n",
              "location_id     0.010335     1.000000 -0.084540  ... -0.013983  0.010932  0.028194\n",
              "price          -0.009388    -0.084540  1.000000  ...  0.039577  0.003613 -0.073943\n",
              "latitude       -0.033407    -0.228096 -0.085864  ...  0.038825 -0.059378 -0.261598\n",
              "longitude      -0.013439    -0.225515 -0.061225  ...  0.045897 -0.054068 -0.220082\n",
              "baths          -0.056833    -0.119207  0.265966  ... -0.005156  0.063632 -0.057011\n",
              "area_marla     -0.001777    -0.020331  0.164258  ...  0.010204 -0.007910 -0.008124\n",
              "area_sqft      -0.001777    -0.020331  0.164258  ...  0.010204 -0.007910 -0.008124\n",
              "bedrooms       -0.043587    -0.104208  0.293809  ... -0.003269  0.061847 -0.062503\n",
              "year            0.275058    -0.013983  0.039577  ...  1.000000 -0.720784 -0.089040\n",
              "month          -0.274808     0.010932  0.003613  ... -0.720784  1.000000  0.069500\n",
              "day            -0.002846     0.028194 -0.073943  ... -0.089040  0.069500  1.000000\n",
              "\n",
              "[12 rows x 12 columns]"
            ]
          },
          "metadata": {},
          "execution_count": 13
        }
      ]
    },
    {
      "cell_type": "code",
      "metadata": {
        "colab": {
          "base_uri": "https://localhost:8080/",
          "height": 550
        },
        "id": "9IcInIL-vFEh",
        "outputId": "d5eeebd4-7d05-42d1-96e9-c788227e3f11"
      },
      "source": [
        "fig = plt.figure(figsize = (12, 8))\n",
        "sns.heatmap(my_frame.corr(), xticklabels = my_frame.corr().columns.values, yticklabels = my_frame.corr().columns.values)"
      ],
      "execution_count": null,
      "outputs": [
        {
          "output_type": "execute_result",
          "data": {
            "text/plain": [
              "<matplotlib.axes._subplots.AxesSubplot at 0x7f375f665fd0>"
            ]
          },
          "metadata": {},
          "execution_count": 14
        },
        {
          "output_type": "display_data",
          "data": {
            "image/png": "[encoded data removed]",
            "text/plain": [
              "<Figure size 864x576 with 2 Axes>"
            ]
          },
          "metadata": {
            "needs_background": "light"
          }
        }
      ]
    },
    {
      "cell_type": "code",
      "metadata": {
        "colab": {
          "base_uri": "https://localhost:8080/",
          "height": 550
        },
        "id": "en6jURbnvGZx",
        "outputId": "f2c55f9b-7995-4cf6-e6ca-595d332a43e2"
      },
      "source": [
        "fig = plt.figure(figsize = (12, 8))\n",
        "sns.heatmap(my_frame.corr(), xticklabels = my_frame.corr().columns.values, yticklabels = my_frame.corr().columns.values, annot = True)"
      ],
      "execution_count": null,
      "outputs": [
        {
          "output_type": "execute_result",
          "data": {
            "text/plain": [
              "<matplotlib.axes._subplots.AxesSubplot at 0x7f375f076a10>"
            ]
          },
          "metadata": {},
          "execution_count": 15
        },
        {
          "output_type": "display_data",
          "data": {
            "image/png": "[encoded data removed]",
            "text/plain": [
              "<Figure size 864x576 with 2 Axes>"
            ]
          },
          "metadata": {
            "needs_background": "light"
          }
        }
      ]
    },
    {
      "cell_type": "code",
      "metadata": {
        "colab": {
          "base_uri": "https://localhost:8080/"
        },
        "id": "PBux91jYvHOK",
        "outputId": "933d65bf-80bb-4175-9927-e17f65da3989"
      },
      "source": [
        "my_frame.columns.unique()"
      ],
      "execution_count": null,
      "outputs": [
        {
          "output_type": "execute_result",
          "data": {
            "text/plain": [
              "Index(['property_id', 'location_id', 'page_url', 'property_type', 'price',\n",
              "       'price_bin', 'location', 'city', 'province_name', 'locality',\n",
              "       'latitude', 'longitude', 'baths', 'area', 'area_marla', 'area_sqft',\n",
              "       'purpose', 'bedrooms', 'date_added', 'year', 'month', 'day', 'agency',\n",
              "       'agent'],\n",
              "      dtype='object')"
            ]
          },
          "metadata": {},
          "execution_count": 5
        }
      ]
    },
    {
      "cell_type": "code",
      "metadata": {
        "colab": {
          "base_uri": "https://localhost:8080/",
          "height": 1000
        },
        "id": "3yu7zAibvIpS",
        "outputId": "d29eeb08-daf3-42f8-f222-9130d6a6c1b9"
      },
      "source": [
        "# visualise the count of each category in categorical columns\n",
        "\n",
        "categorical_features = ['property_type', 'city', 'province_name', 'purpose', 'bedrooms']\n",
        "\n",
        "for i, cat_feature in enumerate(my_frame[categorical_features]):\n",
        "    my_frame[cat_feature].value_counts().plot(kind = 'bar', color = 'purple')\n",
        "    plt.show()"
      ],
      "execution_count": null,
      "outputs": [
        {
          "output_type": "display_data",
          "data": {
            "image/png": "[encoded data removed]",
            "text/plain": [
              "<Figure size 432x288 with 1 Axes>"
            ]
          },
          "metadata": {
            "needs_background": "light"
          }
        },
        {
          "output_type": "display_data",
          "data": {
            "image/png": "[encoded data removed]",
            "text/plain": [
              "<Figure size 432x288 with 1 Axes>"
            ]
          },
          "metadata": {
            "needs_background": "light"
          }
        },
        {
          "output_type": "display_data",
          "data": {
            "image/png": "[encoded data removed]",
            "text/plain": [
              "<Figure size 432x288 with 1 Axes>"
            ]
          },
          "metadata": {
            "needs_background": "light"
          }
        },
        {
          "output_type": "display_data",
          "data": {
            "image/png": "[encoded data removed]",
            "text/plain": [
              "<Figure size 432x288 with 1 Axes>"
            ]
          },
          "metadata": {
            "needs_background": "light"
          }
        },
        {
          "output_type": "display_data",
          "data": {
            "image/png": "[encoded data removed]",
            "text/plain": [
              "<Figure size 432x288 with 1 Axes>"
            ]
          },
          "metadata": {
            "needs_background": "light"
          }
        }
      ]
    },
    {
      "cell_type": "code",
      "metadata": {
        "colab": {
          "base_uri": "https://localhost:8080/",
          "height": 511
        },
        "id": "LX_HY0RhvKwq",
        "outputId": "e225cde5-bcde-4e6b-a86a-80ce7ab158b1"
      },
      "source": [
        "# visualizing price column with a box plot\n",
        "\n",
        "fig = plt.figure(figsize = (12, 8))\n",
        "my_frame.boxplot(column = 'price')"
      ],
      "execution_count": null,
      "outputs": [
        {
          "output_type": "execute_result",
          "data": {
            "text/plain": [
              "<matplotlib.axes._subplots.AxesSubplot at 0x7f2899961ad0>"
            ]
          },
          "metadata": {},
          "execution_count": 7
        },
        {
          "output_type": "display_data",
          "data": {
            "image/png": "[encoded data removed]",
            "text/plain": [
              "<Figure size 864x576 with 1 Axes>"
            ]
          },
          "metadata": {
            "needs_background": "light"
          }
        }
      ]
    },
    {
      "cell_type": "code",
      "metadata": {
        "id": "6ySNr99UvNa5"
      },
      "source": [
        "my_frame = my_frame.fillna('NA')"
      ],
      "execution_count": null,
      "outputs": []
    },
    {
      "cell_type": "markdown",
      "source": [],
      "metadata": {
        "id": "9Xpns1Co92Ba"
      }
    },
    {
      "cell_type": "code",
      "metadata": {
        "colab": {
          "base_uri": "https://localhost:8080/",
          "height": 469
        },
        "id": "V6nQzkQFvOID",
        "outputId": "8ffa8854-7cd0-4822-b09d-1ab71d5b9b07"
      },
      "source": [
        "my_frame.head()"
      ],
      "execution_count": null,
      "outputs": [
        {
          "output_type": "execute_result",
          "data": {
            "text/html": [
              "<div>\n",
              "<style scoped>\n",
              "    .dataframe tbody tr th:only-of-type {\n",
              "        vertical-align: middle;\n",
              "    }\n",
              "\n",
              "    .dataframe tbody tr th {\n",
              "        vertical-align: top;\n",
              "    }\n",
              "\n",
              "    .dataframe thead th {\n",
              "        text-align: right;\n",
              "    }\n",
              "</style>\n",
              "<table border=\"1\" class=\"dataframe\">\n",
              "  <thead>\n",
              "    <tr style=\"text-align: right;\">\n",
              "      <th></th>\n",
              "      <th>property_id</th>\n",
              "      <th>location_id</th>\n",
              "      <th>page_url</th>\n",
              "      <th>property_type</th>\n",
              "      <th>price</th>\n",
              "      <th>price_bin</th>\n",
              "      <th>location</th>\n",
              "      <th>city</th>\n",
              "      <th>province_name</th>\n",
              "      <th>locality</th>\n",
              "      <th>latitude</th>\n",
              "      <th>longitude</th>\n",
              "      <th>baths</th>\n",
              "      <th>area</th>\n",
              "      <th>area_marla</th>\n",
              "      <th>area_sqft</th>\n",
              "      <th>purpose</th>\n",
              "      <th>bedrooms</th>\n",
              "      <th>date_added</th>\n",
              "      <th>year</th>\n",
              "      <th>month</th>\n",
              "      <th>day</th>\n",
              "      <th>agency</th>\n",
              "      <th>agent</th>\n",
              "    </tr>\n",
              "  </thead>\n",
              "  <tbody>\n",
              "    <tr>\n",
              "      <th>0</th>\n",
              "      <td>347795</td>\n",
              "      <td>8</td>\n",
              "      <td>https://www.zameen.com/Property/lahore_model_t...</td>\n",
              "      <td>House</td>\n",
              "      <td>2.2e+08</td>\n",
              "      <td>Very High</td>\n",
              "      <td>Model Town</td>\n",
              "      <td>Lahore</td>\n",
              "      <td>Punjab</td>\n",
              "      <td>Model Town, Lahore, Punjab</td>\n",
              "      <td>31.4839</td>\n",
              "      <td>74.3257</td>\n",
              "      <td>0</td>\n",
              "      <td>6 Kanal</td>\n",
              "      <td>120</td>\n",
              "      <td>32670.1</td>\n",
              "      <td>For Sale</td>\n",
              "      <td>0</td>\n",
              "      <td>07-17-2019</td>\n",
              "      <td>2019</td>\n",
              "      <td>7</td>\n",
              "      <td>17</td>\n",
              "      <td>Real Biz International</td>\n",
              "      <td>Usama Khan</td>\n",
              "    </tr>\n",
              "    <tr>\n",
              "      <th>1</th>\n",
              "      <td>482892</td>\n",
              "      <td>48</td>\n",
              "      <td>https://www.zameen.com/Property/lahore_multan_...</td>\n",
              "      <td>House</td>\n",
              "      <td>4e+07</td>\n",
              "      <td>Very High</td>\n",
              "      <td>Multan Road</td>\n",
              "      <td>Lahore</td>\n",
              "      <td>Punjab</td>\n",
              "      <td>Multan Road, Lahore, Punjab</td>\n",
              "      <td>31.4316</td>\n",
              "      <td>74.18</td>\n",
              "      <td>5</td>\n",
              "      <td>1 Kanal</td>\n",
              "      <td>20</td>\n",
              "      <td>5445.02</td>\n",
              "      <td>For Sale</td>\n",
              "      <td>5</td>\n",
              "      <td>10-06-2018</td>\n",
              "      <td>2018</td>\n",
              "      <td>10</td>\n",
              "      <td>6</td>\n",
              "      <td>Khan Estate</td>\n",
              "      <td>mohsinkhan and B</td>\n",
              "    </tr>\n",
              "    <tr>\n",
              "      <th>2</th>\n",
              "      <td>555962</td>\n",
              "      <td>75</td>\n",
              "      <td>https://www.zameen.com/Property/eden_eden_aven...</td>\n",
              "      <td>House</td>\n",
              "      <td>9.5e+06</td>\n",
              "      <td>Low</td>\n",
              "      <td>Eden</td>\n",
              "      <td>Lahore</td>\n",
              "      <td>Punjab</td>\n",
              "      <td>Eden, Lahore, Punjab</td>\n",
              "      <td>31.4993</td>\n",
              "      <td>74.417</td>\n",
              "      <td>0</td>\n",
              "      <td>9 Marla</td>\n",
              "      <td>9</td>\n",
              "      <td>2450.26</td>\n",
              "      <td>For Sale</td>\n",
              "      <td>3</td>\n",
              "      <td>07-03-2019</td>\n",
              "      <td>2019</td>\n",
              "      <td>7</td>\n",
              "      <td>3</td>\n",
              "      <td>Shahum Estate 2</td>\n",
              "      <td>Babar Hameed, Raja Omar</td>\n",
              "    </tr>\n",
              "    <tr>\n",
              "      <th>3</th>\n",
              "      <td>562843</td>\n",
              "      <td>3821</td>\n",
              "      <td>https://www.zameen.com/Property/gulberg_2_gulb...</td>\n",
              "      <td>House</td>\n",
              "      <td>1.25e+08</td>\n",
              "      <td>Very High</td>\n",
              "      <td>Gulberg</td>\n",
              "      <td>Lahore</td>\n",
              "      <td>Punjab</td>\n",
              "      <td>Gulberg, Lahore, Punjab</td>\n",
              "      <td>31.5221</td>\n",
              "      <td>74.3555</td>\n",
              "      <td>7</td>\n",
              "      <td>1 Kanal</td>\n",
              "      <td>20</td>\n",
              "      <td>5445.02</td>\n",
              "      <td>For Sale</td>\n",
              "      <td>8</td>\n",
              "      <td>04-04-2019</td>\n",
              "      <td>2019</td>\n",
              "      <td>4</td>\n",
              "      <td>4</td>\n",
              "      <td>NA</td>\n",
              "      <td>NA</td>\n",
              "    </tr>\n",
              "    <tr>\n",
              "      <th>4</th>\n",
              "      <td>686990</td>\n",
              "      <td>3522</td>\n",
              "      <td>https://www.zameen.com/Property/allama_iqbal_t...</td>\n",
              "      <td>House</td>\n",
              "      <td>2.1e+07</td>\n",
              "      <td>High</td>\n",
              "      <td>Allama Iqbal Town</td>\n",
              "      <td>Lahore</td>\n",
              "      <td>Punjab</td>\n",
              "      <td>Allama Iqbal Town, Lahore, Punjab</td>\n",
              "      <td>31.5065</td>\n",
              "      <td>74.286</td>\n",
              "      <td>5</td>\n",
              "      <td>11 Marla</td>\n",
              "      <td>11</td>\n",
              "      <td>2994.76</td>\n",
              "      <td>For Sale</td>\n",
              "      <td>6</td>\n",
              "      <td>04-04-2019</td>\n",
              "      <td>2019</td>\n",
              "      <td>4</td>\n",
              "      <td>4</td>\n",
              "      <td>NA</td>\n",
              "      <td>NA</td>\n",
              "    </tr>\n",
              "  </tbody>\n",
              "</table>\n",
              "</div>"
            ],
            "text/plain": [
              "   property_id  location_id  ...                  agency                    agent\n",
              "0       347795            8  ...  Real Biz International               Usama Khan\n",
              "1       482892           48  ...             Khan Estate         mohsinkhan and B\n",
              "2       555962           75  ...         Shahum Estate 2  Babar Hameed, Raja Omar\n",
              "3       562843         3821  ...                      NA                       NA\n",
              "4       686990         3522  ...                      NA                       NA\n",
              "\n",
              "[5 rows x 24 columns]"
            ]
          },
          "metadata": {},
          "execution_count": 10
        }
      ]
    },
    {
      "cell_type": "code",
      "metadata": {
        "colab": {
          "base_uri": "https://localhost:8080/",
          "height": 571
        },
        "id": "_9FgpyspvRH5",
        "outputId": "8cf3a7fb-d606-4587-8b11-e53d15159fb6"
      },
      "source": [
        "fig = plt.figure(figsize = (12, 8))\n",
        "sns.heatmap(my_frame.isnull())"
      ],
      "execution_count": null,
      "outputs": [
        {
          "output_type": "execute_result",
          "data": {
            "text/plain": [
              "<matplotlib.axes._subplots.AxesSubplot at 0x7f28990f4e90>"
            ]
          },
          "metadata": {},
          "execution_count": 11
        },
        {
          "output_type": "display_data",
          "data": {
            "image/png": "[encoded data removed]",
            "text/plain": [
              "<Figure size 864x576 with 2 Axes>"
            ]
          },
          "metadata": {
            "needs_background": "light"
          }
        }
      ]
    },
    {
      "cell_type": "code",
      "metadata": {
        "colab": {
          "base_uri": "https://localhost:8080/"
        },
        "id": "8b9hSBtivSOT",
        "outputId": "edfcb56e-d073-4b72-fe87-1e0528fed5f1"
      },
      "source": [
        "my_frame.columns.unique()"
      ],
      "execution_count": null,
      "outputs": [
        {
          "output_type": "execute_result",
          "data": {
            "text/plain": [
              "Index(['property_id', 'location_id', 'page_url', 'property_type', 'price',\n",
              "       'price_bin', 'location', 'city', 'province_name', 'locality',\n",
              "       'latitude', 'longitude', 'baths', 'area', 'area_marla', 'area_sqft',\n",
              "       'purpose', 'bedrooms', 'date_added', 'year', 'month', 'day', 'agency',\n",
              "       'agent'],\n",
              "      dtype='object')"
            ]
          },
          "metadata": {},
          "execution_count": 22
        }
      ]
    },
    {
      "cell_type": "code",
      "metadata": {
        "id": "cD0u1bDqvTpA"
      },
      "source": [
        "my_frame = my_frame.drop(\n",
        "    ['property_id','location_id','page_url','location','latitude','longitude','area',\n",
        "     'date_added','agency','agent', 'price_bin', 'locality'], axis = 1)"
      ],
      "execution_count": null,
      "outputs": []
    },
    {
      "cell_type": "code",
      "metadata": {
        "colab": {
          "base_uri": "https://localhost:8080/",
          "height": 206
        },
        "id": "xAXi11pgvUvS",
        "outputId": "17c2bd7c-bd76-4126-90df-3bbebd230cfe"
      },
      "source": [
        "my_frame.head()"
      ],
      "execution_count": null,
      "outputs": [
        {
          "output_type": "execute_result",
          "data": {
            "text/html": [
              "<div>\n",
              "<style scoped>\n",
              "    .dataframe tbody tr th:only-of-type {\n",
              "        vertical-align: middle;\n",
              "    }\n",
              "\n",
              "    .dataframe tbody tr th {\n",
              "        vertical-align: top;\n",
              "    }\n",
              "\n",
              "    .dataframe thead th {\n",
              "        text-align: right;\n",
              "    }\n",
              "</style>\n",
              "<table border=\"1\" class=\"dataframe\">\n",
              "  <thead>\n",
              "    <tr style=\"text-align: right;\">\n",
              "      <th></th>\n",
              "      <th>property_type</th>\n",
              "      <th>price</th>\n",
              "      <th>city</th>\n",
              "      <th>province_name</th>\n",
              "      <th>baths</th>\n",
              "      <th>area_marla</th>\n",
              "      <th>area_sqft</th>\n",
              "      <th>purpose</th>\n",
              "      <th>bedrooms</th>\n",
              "      <th>year</th>\n",
              "      <th>month</th>\n",
              "      <th>day</th>\n",
              "    </tr>\n",
              "  </thead>\n",
              "  <tbody>\n",
              "    <tr>\n",
              "      <th>0</th>\n",
              "      <td>House</td>\n",
              "      <td>2.2e+08</td>\n",
              "      <td>Lahore</td>\n",
              "      <td>Punjab</td>\n",
              "      <td>0</td>\n",
              "      <td>120</td>\n",
              "      <td>32670.1</td>\n",
              "      <td>For Sale</td>\n",
              "      <td>0</td>\n",
              "      <td>2019</td>\n",
              "      <td>7</td>\n",
              "      <td>17</td>\n",
              "    </tr>\n",
              "    <tr>\n",
              "      <th>1</th>\n",
              "      <td>House</td>\n",
              "      <td>4e+07</td>\n",
              "      <td>Lahore</td>\n",
              "      <td>Punjab</td>\n",
              "      <td>5</td>\n",
              "      <td>20</td>\n",
              "      <td>5445.02</td>\n",
              "      <td>For Sale</td>\n",
              "      <td>5</td>\n",
              "      <td>2018</td>\n",
              "      <td>10</td>\n",
              "      <td>6</td>\n",
              "    </tr>\n",
              "    <tr>\n",
              "      <th>2</th>\n",
              "      <td>House</td>\n",
              "      <td>9.5e+06</td>\n",
              "      <td>Lahore</td>\n",
              "      <td>Punjab</td>\n",
              "      <td>0</td>\n",
              "      <td>9</td>\n",
              "      <td>2450.26</td>\n",
              "      <td>For Sale</td>\n",
              "      <td>3</td>\n",
              "      <td>2019</td>\n",
              "      <td>7</td>\n",
              "      <td>3</td>\n",
              "    </tr>\n",
              "    <tr>\n",
              "      <th>3</th>\n",
              "      <td>House</td>\n",
              "      <td>1.25e+08</td>\n",
              "      <td>Lahore</td>\n",
              "      <td>Punjab</td>\n",
              "      <td>7</td>\n",
              "      <td>20</td>\n",
              "      <td>5445.02</td>\n",
              "      <td>For Sale</td>\n",
              "      <td>8</td>\n",
              "      <td>2019</td>\n",
              "      <td>4</td>\n",
              "      <td>4</td>\n",
              "    </tr>\n",
              "    <tr>\n",
              "      <th>4</th>\n",
              "      <td>House</td>\n",
              "      <td>2.1e+07</td>\n",
              "      <td>Lahore</td>\n",
              "      <td>Punjab</td>\n",
              "      <td>5</td>\n",
              "      <td>11</td>\n",
              "      <td>2994.76</td>\n",
              "      <td>For Sale</td>\n",
              "      <td>6</td>\n",
              "      <td>2019</td>\n",
              "      <td>4</td>\n",
              "      <td>4</td>\n",
              "    </tr>\n",
              "  </tbody>\n",
              "</table>\n",
              "</div>"
            ],
            "text/plain": [
              "  property_type     price    city province_name  ... bedrooms  year month day\n",
              "0         House   2.2e+08  Lahore        Punjab  ...        0  2019     7  17\n",
              "1         House     4e+07  Lahore        Punjab  ...        5  2018    10   6\n",
              "2         House   9.5e+06  Lahore        Punjab  ...        3  2019     7   3\n",
              "3         House  1.25e+08  Lahore        Punjab  ...        8  2019     4   4\n",
              "4         House   2.1e+07  Lahore        Punjab  ...        6  2019     4   4\n",
              "\n",
              "[5 rows x 12 columns]"
            ]
          },
          "metadata": {},
          "execution_count": 14
        }
      ]
    },
    {
      "cell_type": "code",
      "metadata": {
        "id": "_C9KNp62vV8B"
      },
      "source": [
        "my_frame['property_type'] = my_frame['property_type'].astype('category').cat.codes\n",
        "my_frame['city'] = my_frame['city'].astype('category').cat.codes\n",
        "my_frame['province_name'] = my_frame['province_name'].astype('category').cat.codes\n",
        "my_frame['purpose'] = my_frame['purpose'].astype('category').cat.codes"
      ],
      "execution_count": null,
      "outputs": []
    },
    {
      "cell_type": "code",
      "metadata": {
        "colab": {
          "base_uri": "https://localhost:8080/",
          "height": 206
        },
        "id": "ECkyYot1vXQJ",
        "outputId": "3284d5b8-54af-44a1-a531-acd2acda69bf"
      },
      "source": [
        "my_frame.head()"
      ],
      "execution_count": null,
      "outputs": [
        {
          "output_type": "execute_result",
          "data": {
            "text/html": [
              "<div>\n",
              "<style scoped>\n",
              "    .dataframe tbody tr th:only-of-type {\n",
              "        vertical-align: middle;\n",
              "    }\n",
              "\n",
              "    .dataframe tbody tr th {\n",
              "        vertical-align: top;\n",
              "    }\n",
              "\n",
              "    .dataframe thead th {\n",
              "        text-align: right;\n",
              "    }\n",
              "</style>\n",
              "<table border=\"1\" class=\"dataframe\">\n",
              "  <thead>\n",
              "    <tr style=\"text-align: right;\">\n",
              "      <th></th>\n",
              "      <th>property_type</th>\n",
              "      <th>price</th>\n",
              "      <th>city</th>\n",
              "      <th>province_name</th>\n",
              "      <th>baths</th>\n",
              "      <th>area_marla</th>\n",
              "      <th>area_sqft</th>\n",
              "      <th>purpose</th>\n",
              "      <th>bedrooms</th>\n",
              "      <th>year</th>\n",
              "      <th>month</th>\n",
              "      <th>day</th>\n",
              "    </tr>\n",
              "  </thead>\n",
              "  <tbody>\n",
              "    <tr>\n",
              "      <th>0</th>\n",
              "      <td>2</td>\n",
              "      <td>2.2e+08</td>\n",
              "      <td>3</td>\n",
              "      <td>2</td>\n",
              "      <td>0</td>\n",
              "      <td>120</td>\n",
              "      <td>32670.1</td>\n",
              "      <td>1</td>\n",
              "      <td>0</td>\n",
              "      <td>2019</td>\n",
              "      <td>7</td>\n",
              "      <td>17</td>\n",
              "    </tr>\n",
              "    <tr>\n",
              "      <th>1</th>\n",
              "      <td>2</td>\n",
              "      <td>4e+07</td>\n",
              "      <td>3</td>\n",
              "      <td>2</td>\n",
              "      <td>5</td>\n",
              "      <td>20</td>\n",
              "      <td>5445.02</td>\n",
              "      <td>1</td>\n",
              "      <td>5</td>\n",
              "      <td>2018</td>\n",
              "      <td>10</td>\n",
              "      <td>6</td>\n",
              "    </tr>\n",
              "    <tr>\n",
              "      <th>2</th>\n",
              "      <td>2</td>\n",
              "      <td>9.5e+06</td>\n",
              "      <td>3</td>\n",
              "      <td>2</td>\n",
              "      <td>0</td>\n",
              "      <td>9</td>\n",
              "      <td>2450.26</td>\n",
              "      <td>1</td>\n",
              "      <td>3</td>\n",
              "      <td>2019</td>\n",
              "      <td>7</td>\n",
              "      <td>3</td>\n",
              "    </tr>\n",
              "    <tr>\n",
              "      <th>3</th>\n",
              "      <td>2</td>\n",
              "      <td>1.25e+08</td>\n",
              "      <td>3</td>\n",
              "      <td>2</td>\n",
              "      <td>7</td>\n",
              "      <td>20</td>\n",
              "      <td>5445.02</td>\n",
              "      <td>1</td>\n",
              "      <td>8</td>\n",
              "      <td>2019</td>\n",
              "      <td>4</td>\n",
              "      <td>4</td>\n",
              "    </tr>\n",
              "    <tr>\n",
              "      <th>4</th>\n",
              "      <td>2</td>\n",
              "      <td>2.1e+07</td>\n",
              "      <td>3</td>\n",
              "      <td>2</td>\n",
              "      <td>5</td>\n",
              "      <td>11</td>\n",
              "      <td>2994.76</td>\n",
              "      <td>1</td>\n",
              "      <td>6</td>\n",
              "      <td>2019</td>\n",
              "      <td>4</td>\n",
              "      <td>4</td>\n",
              "    </tr>\n",
              "  </tbody>\n",
              "</table>\n",
              "</div>"
            ],
            "text/plain": [
              "   property_type     price  city  province_name  ... bedrooms  year month  day\n",
              "0              2   2.2e+08     3              2  ...        0  2019     7   17\n",
              "1              2     4e+07     3              2  ...        5  2018    10    6\n",
              "2              2   9.5e+06     3              2  ...        3  2019     7    3\n",
              "3              2  1.25e+08     3              2  ...        8  2019     4    4\n",
              "4              2   2.1e+07     3              2  ...        6  2019     4    4\n",
              "\n",
              "[5 rows x 12 columns]"
            ]
          },
          "metadata": {},
          "execution_count": 16
        }
      ]
    },
    {
      "cell_type": "code",
      "metadata": {
        "id": "2C0nVm3rvYXJ",
        "colab": {
          "base_uri": "https://localhost:8080/"
        },
        "outputId": "59481ac8-a8cb-44f9-b10a-67ec672ec7ca"
      },
      "source": [
        "x = my_frame[['property_type', 'city', 'province_name', 'baths', 'purpose', 'bedrooms', 'area_sqft']]\n",
        "x = my_frame.drop('price', axis = 1)\n",
        "y = my_frame['price']\n",
        "my_frame['price']"
      ],
      "execution_count": null,
      "outputs": [
        {
          "output_type": "execute_result",
          "data": {
            "text/plain": [
              "0         2.2e+08\n",
              "1           4e+07\n",
              "2         9.5e+06\n",
              "3        1.25e+08\n",
              "4         2.1e+07\n",
              "           ...   \n",
              "91619       45000\n",
              "91620       32000\n",
              "91621       55000\n",
              "91622       90000\n",
              "91623          NA\n",
              "Name: price, Length: 91624, dtype: object"
            ]
          },
          "metadata": {},
          "execution_count": 17
        }
      ]
    },
    {
      "cell_type": "code",
      "metadata": {
        "id": "5_MxSQbLvZPz"
      },
      "source": [
        "x_train, x_test, y_train, y_test = train_test_split(x, y, test_size = 0.25, random_state = 35)"
      ],
      "execution_count": null,
      "outputs": []
    },
    {
      "cell_type": "code",
      "metadata": {
        "id": "5fhb9bLpvaaR"
      },
      "source": [
        "from sklearn.linear_model import LinearRegression\n",
        "reg_model = LinearRegression()"
      ],
      "execution_count": null,
      "outputs": []
    },
    {
      "cell_type": "code",
      "metadata": {
        "colab": {
          "base_uri": "https://localhost:8080/",
          "height": 311
        },
        "id": "Sc7S8BbSvcs6",
        "outputId": "b0e4191a-a558-406a-9fd4-3efa815f1d64"
      },
      "source": [
        "reg_model.fit(x_train, y_train)"
      ],
      "execution_count": null,
      "outputs": [
        {
          "output_type": "error",
          "ename": "ValueError",
          "evalue": "ignored",
          "traceback": [
            "\u001b[0;31m---------------------------------------------------------------------------\u001b[0m",
            "\u001b[0;31mValueError\u001b[0m                                Traceback (most recent call last)",
            "\u001b[0;32m<ipython-input-20-a17851545229>\u001b[0m in \u001b[0;36m<module>\u001b[0;34m()\u001b[0m\n\u001b[0;32m----> 1\u001b[0;31m \u001b[0mreg_model\u001b[0m\u001b[0;34m.\u001b[0m\u001b[0mfit\u001b[0m\u001b[0;34m(\u001b[0m\u001b[0mx_train\u001b[0m\u001b[0;34m,\u001b[0m \u001b[0my_train\u001b[0m\u001b[0;34m)\u001b[0m\u001b[0;34m\u001b[0m\u001b[0;34m\u001b[0m\u001b[0m\n\u001b[0m",
            "\u001b[0;32m/usr/local/lib/python3.7/dist-packages/sklearn/linear_model/_base.py\u001b[0m in \u001b[0;36mfit\u001b[0;34m(self, X, y, sample_weight)\u001b[0m\n\u001b[1;32m    661\u001b[0m \u001b[0;34m\u001b[0m\u001b[0m\n\u001b[1;32m    662\u001b[0m         X, y = self._validate_data(\n\u001b[0;32m--> 663\u001b[0;31m             \u001b[0mX\u001b[0m\u001b[0;34m,\u001b[0m \u001b[0my\u001b[0m\u001b[0;34m,\u001b[0m \u001b[0maccept_sparse\u001b[0m\u001b[0;34m=\u001b[0m\u001b[0maccept_sparse\u001b[0m\u001b[0;34m,\u001b[0m \u001b[0my_numeric\u001b[0m\u001b[0;34m=\u001b[0m\u001b[0;32mTrue\u001b[0m\u001b[0;34m,\u001b[0m \u001b[0mmulti_output\u001b[0m\u001b[0;34m=\u001b[0m\u001b[0;32mTrue\u001b[0m\u001b[0;34m\u001b[0m\u001b[0;34m\u001b[0m\u001b[0m\n\u001b[0m\u001b[1;32m    664\u001b[0m         )\n\u001b[1;32m    665\u001b[0m \u001b[0;34m\u001b[0m\u001b[0m\n",
            "\u001b[0;32m/usr/local/lib/python3.7/dist-packages/sklearn/base.py\u001b[0m in \u001b[0;36m_validate_data\u001b[0;34m(self, X, y, reset, validate_separately, **check_params)\u001b[0m\n\u001b[1;32m    574\u001b[0m                 \u001b[0my\u001b[0m \u001b[0;34m=\u001b[0m \u001b[0mcheck_array\u001b[0m\u001b[0;34m(\u001b[0m\u001b[0my\u001b[0m\u001b[0;34m,\u001b[0m \u001b[0;34m**\u001b[0m\u001b[0mcheck_y_params\u001b[0m\u001b[0;34m)\u001b[0m\u001b[0;34m\u001b[0m\u001b[0;34m\u001b[0m\u001b[0m\n\u001b[1;32m    575\u001b[0m             \u001b[0;32melse\u001b[0m\u001b[0;34m:\u001b[0m\u001b[0;34m\u001b[0m\u001b[0;34m\u001b[0m\u001b[0m\n\u001b[0;32m--> 576\u001b[0;31m                 \u001b[0mX\u001b[0m\u001b[0;34m,\u001b[0m \u001b[0my\u001b[0m \u001b[0;34m=\u001b[0m \u001b[0mcheck_X_y\u001b[0m\u001b[0;34m(\u001b[0m\u001b[0mX\u001b[0m\u001b[0;34m,\u001b[0m \u001b[0my\u001b[0m\u001b[0;34m,\u001b[0m \u001b[0;34m**\u001b[0m\u001b[0mcheck_params\u001b[0m\u001b[0;34m)\u001b[0m\u001b[0;34m\u001b[0m\u001b[0;34m\u001b[0m\u001b[0m\n\u001b[0m\u001b[1;32m    577\u001b[0m             \u001b[0mout\u001b[0m \u001b[0;34m=\u001b[0m \u001b[0mX\u001b[0m\u001b[0;34m,\u001b[0m \u001b[0my\u001b[0m\u001b[0;34m\u001b[0m\u001b[0;34m\u001b[0m\u001b[0m\n\u001b[1;32m    578\u001b[0m \u001b[0;34m\u001b[0m\u001b[0m\n",
            "\u001b[0;32m/usr/local/lib/python3.7/dist-packages/sklearn/utils/validation.py\u001b[0m in \u001b[0;36mcheck_X_y\u001b[0;34m(X, y, accept_sparse, accept_large_sparse, dtype, order, copy, force_all_finite, ensure_2d, allow_nd, multi_output, ensure_min_samples, ensure_min_features, y_numeric, estimator)\u001b[0m\n\u001b[1;32m    966\u001b[0m         \u001b[0mensure_min_samples\u001b[0m\u001b[0;34m=\u001b[0m\u001b[0mensure_min_samples\u001b[0m\u001b[0;34m,\u001b[0m\u001b[0;34m\u001b[0m\u001b[0;34m\u001b[0m\u001b[0m\n\u001b[1;32m    967\u001b[0m         \u001b[0mensure_min_features\u001b[0m\u001b[0;34m=\u001b[0m\u001b[0mensure_min_features\u001b[0m\u001b[0;34m,\u001b[0m\u001b[0;34m\u001b[0m\u001b[0;34m\u001b[0m\u001b[0m\n\u001b[0;32m--> 968\u001b[0;31m         \u001b[0mestimator\u001b[0m\u001b[0;34m=\u001b[0m\u001b[0mestimator\u001b[0m\u001b[0;34m,\u001b[0m\u001b[0;34m\u001b[0m\u001b[0;34m\u001b[0m\u001b[0m\n\u001b[0m\u001b[1;32m    969\u001b[0m     )\n\u001b[1;32m    970\u001b[0m \u001b[0;34m\u001b[0m\u001b[0m\n",
            "\u001b[0;32m/usr/local/lib/python3.7/dist-packages/sklearn/utils/validation.py\u001b[0m in \u001b[0;36mcheck_array\u001b[0;34m(array, accept_sparse, accept_large_sparse, dtype, order, copy, force_all_finite, ensure_2d, allow_nd, ensure_min_samples, ensure_min_features, estimator)\u001b[0m\n\u001b[1;32m    736\u001b[0m                     \u001b[0marray\u001b[0m \u001b[0;34m=\u001b[0m \u001b[0marray\u001b[0m\u001b[0;34m.\u001b[0m\u001b[0mastype\u001b[0m\u001b[0;34m(\u001b[0m\u001b[0mdtype\u001b[0m\u001b[0;34m,\u001b[0m \u001b[0mcasting\u001b[0m\u001b[0;34m=\u001b[0m\u001b[0;34m\"unsafe\"\u001b[0m\u001b[0;34m,\u001b[0m \u001b[0mcopy\u001b[0m\u001b[0;34m=\u001b[0m\u001b[0;32mFalse\u001b[0m\u001b[0;34m)\u001b[0m\u001b[0;34m\u001b[0m\u001b[0;34m\u001b[0m\u001b[0m\n\u001b[1;32m    737\u001b[0m                 \u001b[0;32melse\u001b[0m\u001b[0;34m:\u001b[0m\u001b[0;34m\u001b[0m\u001b[0;34m\u001b[0m\u001b[0m\n\u001b[0;32m--> 738\u001b[0;31m                     \u001b[0marray\u001b[0m \u001b[0;34m=\u001b[0m \u001b[0mnp\u001b[0m\u001b[0;34m.\u001b[0m\u001b[0masarray\u001b[0m\u001b[0;34m(\u001b[0m\u001b[0marray\u001b[0m\u001b[0;34m,\u001b[0m \u001b[0morder\u001b[0m\u001b[0;34m=\u001b[0m\u001b[0morder\u001b[0m\u001b[0;34m,\u001b[0m \u001b[0mdtype\u001b[0m\u001b[0;34m=\u001b[0m\u001b[0mdtype\u001b[0m\u001b[0;34m)\u001b[0m\u001b[0;34m\u001b[0m\u001b[0;34m\u001b[0m\u001b[0m\n\u001b[0m\u001b[1;32m    739\u001b[0m             \u001b[0;32mexcept\u001b[0m \u001b[0mComplexWarning\u001b[0m \u001b[0;32mas\u001b[0m \u001b[0mcomplex_warning\u001b[0m\u001b[0;34m:\u001b[0m\u001b[0;34m\u001b[0m\u001b[0;34m\u001b[0m\u001b[0m\n\u001b[1;32m    740\u001b[0m                 raise ValueError(\n",
            "\u001b[0;32m/usr/local/lib/python3.7/dist-packages/numpy/core/_asarray.py\u001b[0m in \u001b[0;36masarray\u001b[0;34m(a, dtype, order)\u001b[0m\n\u001b[1;32m     81\u001b[0m \u001b[0;34m\u001b[0m\u001b[0m\n\u001b[1;32m     82\u001b[0m     \"\"\"\n\u001b[0;32m---> 83\u001b[0;31m     \u001b[0;32mreturn\u001b[0m \u001b[0marray\u001b[0m\u001b[0;34m(\u001b[0m\u001b[0ma\u001b[0m\u001b[0;34m,\u001b[0m \u001b[0mdtype\u001b[0m\u001b[0;34m,\u001b[0m \u001b[0mcopy\u001b[0m\u001b[0;34m=\u001b[0m\u001b[0;32mFalse\u001b[0m\u001b[0;34m,\u001b[0m \u001b[0morder\u001b[0m\u001b[0;34m=\u001b[0m\u001b[0morder\u001b[0m\u001b[0;34m)\u001b[0m\u001b[0;34m\u001b[0m\u001b[0;34m\u001b[0m\u001b[0m\n\u001b[0m\u001b[1;32m     84\u001b[0m \u001b[0;34m\u001b[0m\u001b[0m\n\u001b[1;32m     85\u001b[0m \u001b[0;34m\u001b[0m\u001b[0m\n",
            "\u001b[0;32m/usr/local/lib/python3.7/dist-packages/pandas/core/generic.py\u001b[0m in \u001b[0;36m__array__\u001b[0;34m(self, dtype)\u001b[0m\n\u001b[1;32m   1779\u001b[0m \u001b[0;34m\u001b[0m\u001b[0m\n\u001b[1;32m   1780\u001b[0m     \u001b[0;32mdef\u001b[0m \u001b[0m__array__\u001b[0m\u001b[0;34m(\u001b[0m\u001b[0mself\u001b[0m\u001b[0;34m,\u001b[0m \u001b[0mdtype\u001b[0m\u001b[0;34m=\u001b[0m\u001b[0;32mNone\u001b[0m\u001b[0;34m)\u001b[0m \u001b[0;34m->\u001b[0m \u001b[0mnp\u001b[0m\u001b[0;34m.\u001b[0m\u001b[0mndarray\u001b[0m\u001b[0;34m:\u001b[0m\u001b[0;34m\u001b[0m\u001b[0;34m\u001b[0m\u001b[0m\n\u001b[0;32m-> 1781\u001b[0;31m         \u001b[0;32mreturn\u001b[0m \u001b[0mnp\u001b[0m\u001b[0;34m.\u001b[0m\u001b[0masarray\u001b[0m\u001b[0;34m(\u001b[0m\u001b[0mself\u001b[0m\u001b[0;34m.\u001b[0m\u001b[0m_values\u001b[0m\u001b[0;34m,\u001b[0m \u001b[0mdtype\u001b[0m\u001b[0;34m=\u001b[0m\u001b[0mdtype\u001b[0m\u001b[0;34m)\u001b[0m\u001b[0;34m\u001b[0m\u001b[0;34m\u001b[0m\u001b[0m\n\u001b[0m\u001b[1;32m   1782\u001b[0m \u001b[0;34m\u001b[0m\u001b[0m\n\u001b[1;32m   1783\u001b[0m     \u001b[0;32mdef\u001b[0m \u001b[0m__array_wrap__\u001b[0m\u001b[0;34m(\u001b[0m\u001b[0mself\u001b[0m\u001b[0;34m,\u001b[0m \u001b[0mresult\u001b[0m\u001b[0;34m,\u001b[0m \u001b[0mcontext\u001b[0m\u001b[0;34m=\u001b[0m\u001b[0;32mNone\u001b[0m\u001b[0;34m)\u001b[0m\u001b[0;34m:\u001b[0m\u001b[0;34m\u001b[0m\u001b[0;34m\u001b[0m\u001b[0m\n",
            "\u001b[0;32m/usr/local/lib/python3.7/dist-packages/numpy/core/_asarray.py\u001b[0m in \u001b[0;36masarray\u001b[0;34m(a, dtype, order)\u001b[0m\n\u001b[1;32m     81\u001b[0m \u001b[0;34m\u001b[0m\u001b[0m\n\u001b[1;32m     82\u001b[0m     \"\"\"\n\u001b[0;32m---> 83\u001b[0;31m     \u001b[0;32mreturn\u001b[0m \u001b[0marray\u001b[0m\u001b[0;34m(\u001b[0m\u001b[0ma\u001b[0m\u001b[0;34m,\u001b[0m \u001b[0mdtype\u001b[0m\u001b[0;34m,\u001b[0m \u001b[0mcopy\u001b[0m\u001b[0;34m=\u001b[0m\u001b[0;32mFalse\u001b[0m\u001b[0;34m,\u001b[0m \u001b[0morder\u001b[0m\u001b[0;34m=\u001b[0m\u001b[0morder\u001b[0m\u001b[0;34m)\u001b[0m\u001b[0;34m\u001b[0m\u001b[0;34m\u001b[0m\u001b[0m\n\u001b[0m\u001b[1;32m     84\u001b[0m \u001b[0;34m\u001b[0m\u001b[0m\n\u001b[1;32m     85\u001b[0m \u001b[0;34m\u001b[0m\u001b[0m\n",
            "\u001b[0;31mValueError\u001b[0m: could not convert string to float: 'NA'"
          ]
        }
      ]
    },
    {
      "cell_type": "code",
      "metadata": {
        "id": "zUczDV3YveVZ"
      },
      "source": [
        "lin_y_pred = reg_model.predict(x_test)"
      ],
      "execution_count": null,
      "outputs": []
    },
    {
      "cell_type": "code",
      "metadata": {
        "colab": {
          "base_uri": "https://localhost:8080/",
          "height": 183
        },
        "id": "5bUTHW-VvfIx",
        "outputId": "4a7f69d8-1356-4721-da10-bbd9b744a844"
      },
      "source": [
        "lr_data = pd.DataFrame({'Actual' : y_test, 'Predicted' : lin_y_pred})\n",
        "lr_data"
      ],
      "execution_count": null,
      "outputs": [
        {
          "output_type": "error",
          "ename": "NameError",
          "evalue": "ignored",
          "traceback": [
            "\u001b[0;31m---------------------------------------------------------------------------\u001b[0m",
            "\u001b[0;31mNameError\u001b[0m                                 Traceback (most recent call last)",
            "\u001b[0;32m<ipython-input-23-dd4cfe1cb8e2>\u001b[0m in \u001b[0;36m<module>\u001b[0;34m()\u001b[0m\n\u001b[0;32m----> 1\u001b[0;31m \u001b[0mlr_data\u001b[0m \u001b[0;34m=\u001b[0m \u001b[0mpd\u001b[0m\u001b[0;34m.\u001b[0m\u001b[0mDataFrame\u001b[0m\u001b[0;34m(\u001b[0m\u001b[0;34m{\u001b[0m\u001b[0;34m'Actual'\u001b[0m \u001b[0;34m:\u001b[0m \u001b[0my_test\u001b[0m\u001b[0;34m,\u001b[0m \u001b[0;34m'Predicted'\u001b[0m \u001b[0;34m:\u001b[0m \u001b[0mlin_y_pred\u001b[0m\u001b[0;34m}\u001b[0m\u001b[0;34m)\u001b[0m\u001b[0;34m\u001b[0m\u001b[0;34m\u001b[0m\u001b[0m\n\u001b[0m\u001b[1;32m      2\u001b[0m \u001b[0mlr_data\u001b[0m\u001b[0;34m\u001b[0m\u001b[0;34m\u001b[0m\u001b[0m\n",
            "\u001b[0;31mNameError\u001b[0m: name 'lin_y_pred' is not defined"
          ]
        }
      ]
    },
    {
      "cell_type": "code",
      "metadata": {
        "id": "Q9_gG6K5vkgp"
      },
      "source": [
        "from sklearn.ensemble import RandomForestRegressor\n",
        "forest_model = RandomForestRegressor()\n",
        "forest_model.fit(x_train, y_train)\n",
        "forest_y_pred = forest_model.predict(x_test)\n",
        "forest_data = pd.DataFrame({'Actual' : y_test, 'Predicted' : forest_y_pred})\n",
        "forest_data"
      ],
      "execution_count": null,
      "outputs": []
    },
    {
      "cell_type": "code",
      "metadata": {
        "id": "SqUNVvNOvq9R"
      },
      "source": [
        "from sklearn.metrics import r2_score\n",
        "from sklearn.metrics import mean_squared_error\n",
        "print('Linear Regression Mean Square Error:', mean_squared_error(y_test, lin_y_pred))\n",
        "print('Linear Regression R2 Score:', r2_score(y_test, lin_y_pred))\n",
        "\n",
        "print('Random Forest Regressor Mean Square Error:', mean_squared_error(y_test, forest_y_pred))\n",
        "print('Random Forest Regressor R2 Score:', r2_score(y_test, forest_y_pred))"
      ],
      "execution_count": null,
      "outputs": []
    },
    {
      "cell_type": "code",
      "metadata": {
        "id": "6mC1rmBDvm0D"
      },
      "source": [
        "import pickle\n",
        "pickle_out = open(\"regression_model.pkl\", \"wb\")\n",
        "pickle.dump(reg_model, pickle_out)\n",
        "pickle_out.close()"
      ],
      "execution_count": null,
      "outputs": []
    },
    {
      "cell_type": "code",
      "metadata": {
        "id": "rWkfKOkQvOth"
      },
      "source": [
        "pickle_out1 = open(\"forest_model.pkl\", \"wb\")\n",
        "pickle.dump(forest_model, pickle_out1)\n",
        "pickle_out1.close()"
      ],
      "execution_count": null,
      "outputs": []
    },
    {
      "cell_type": "code",
      "metadata": {
        "id": "GxhNT6CGy7sR"
      },
      "source": [
        "x_train.head()"
      ],
      "execution_count": null,
      "outputs": []
    }
  ]
}